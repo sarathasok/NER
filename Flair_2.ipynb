{
  "nbformat": 4,
  "nbformat_minor": 0,
  "metadata": {
    "colab": {
      "name": "Flair 2",
      "provenance": [],
      "collapsed_sections": []
    },
    "kernelspec": {
      "name": "python3",
      "display_name": "Python 3"
    }
  },
  "cells": [
    {
      "cell_type": "markdown",
      "metadata": {
        "id": "2R3Gx-mYj5Si"
      },
      "source": [
        "# Initalization"
      ]
    },
    {
      "cell_type": "code",
      "metadata": {
        "id": "Q3XtTcClkDa6",
        "colab": {
          "base_uri": "https://localhost:8080/",
          "height": 714
        },
        "outputId": "5d06c91e-d865-4ca6-92d5-1f55e24a0e0e"
      },
      "source": [
        "!pip install flair"
      ],
      "execution_count": null,
      "outputs": [
        {
          "output_type": "stream",
          "text": [
            "Requirement already satisfied: flair in /usr/local/lib/python3.6/dist-packages (0.4.0)\n",
            "Requirement already satisfied: hyperopt==0.1.1 in /usr/local/lib/python3.6/dist-packages (from flair) (0.1.1)\n",
            "Requirement already satisfied: sklearn in /usr/local/lib/python3.6/dist-packages (from flair) (0.0)\n",
            "Requirement already satisfied: typing==3.6.4 in /usr/local/lib/python3.6/dist-packages (from flair) (3.6.4)\n",
            "Requirement already satisfied: deprecated==1.2.4 in /usr/local/lib/python3.6/dist-packages (from flair) (1.2.4)\n",
            "Requirement already satisfied: gensim==3.4.0 in /usr/local/lib/python3.6/dist-packages (from flair) (3.4.0)\n",
            "Requirement already satisfied: pytorch-pretrained-bert==0.3.0 in /usr/local/lib/python3.6/dist-packages (from flair) (0.3.0)\n",
            "Requirement already satisfied: segtok==1.5.7 in /usr/local/lib/python3.6/dist-packages (from flair) (1.5.7)\n",
            "Requirement already satisfied: tqdm==4.26.0 in /usr/local/lib/python3.6/dist-packages (from flair) (4.26.0)\n",
            "Requirement already satisfied: mpld3==0.3 in /usr/local/lib/python3.6/dist-packages (from flair) (0.3)\n",
            "Requirement already satisfied: matplotlib==3.0.0 in /usr/local/lib/python3.6/dist-packages (from flair) (3.0.0)\n",
            "Requirement already satisfied: torch==1.0.0 in /usr/local/lib/python3.6/dist-packages (from flair) (1.0.0)\n",
            "Requirement already satisfied: sqlitedict==1.6.0 in /usr/local/lib/python3.6/dist-packages (from flair) (1.6.0)\n",
            "Requirement already satisfied: scipy in /usr/local/lib/python3.6/dist-packages (from hyperopt==0.1.1->flair) (1.1.0)\n",
            "Requirement already satisfied: six in /usr/local/lib/python3.6/dist-packages (from hyperopt==0.1.1->flair) (1.11.0)\n",
            "Requirement already satisfied: numpy in /usr/local/lib/python3.6/dist-packages (from hyperopt==0.1.1->flair) (1.14.6)\n",
            "Requirement already satisfied: pymongo in /usr/local/lib/python3.6/dist-packages (from hyperopt==0.1.1->flair) (3.7.2)\n",
            "Requirement already satisfied: networkx in /usr/local/lib/python3.6/dist-packages (from hyperopt==0.1.1->flair) (2.2)\n",
            "Requirement already satisfied: future in /usr/local/lib/python3.6/dist-packages (from hyperopt==0.1.1->flair) (0.16.0)\n",
            "Requirement already satisfied: scikit-learn in /usr/local/lib/python3.6/dist-packages (from sklearn->flair) (0.20.2)\n",
            "Requirement already satisfied: wrapt<2,>=1 in /usr/local/lib/python3.6/dist-packages (from deprecated==1.2.4->flair) (1.10.11)\n",
            "Requirement already satisfied: smart-open>=1.2.1 in /usr/local/lib/python3.6/dist-packages (from gensim==3.4.0->flair) (1.7.1)\n",
            "Requirement already satisfied: requests in /usr/local/lib/python3.6/dist-packages (from pytorch-pretrained-bert==0.3.0->flair) (2.18.4)\n",
            "Requirement already satisfied: boto3 in /usr/local/lib/python3.6/dist-packages (from pytorch-pretrained-bert==0.3.0->flair) (1.9.75)\n",
            "Requirement already satisfied: regex in /usr/local/lib/python3.6/dist-packages (from segtok==1.5.7->flair) (2018.1.10)\n",
            "Requirement already satisfied: python-dateutil>=2.1 in /usr/local/lib/python3.6/dist-packages (from matplotlib==3.0.0->flair) (2.5.3)\n",
            "Requirement already satisfied: cycler>=0.10 in /usr/local/lib/python3.6/dist-packages (from matplotlib==3.0.0->flair) (0.10.0)\n",
            "Requirement already satisfied: kiwisolver>=1.0.1 in /usr/local/lib/python3.6/dist-packages (from matplotlib==3.0.0->flair) (1.0.1)\n",
            "Requirement already satisfied: pyparsing!=2.0.4,!=2.1.2,!=2.1.6,>=2.0.1 in /usr/local/lib/python3.6/dist-packages (from matplotlib==3.0.0->flair) (2.3.0)\n",
            "Requirement already satisfied: decorator>=4.3.0 in /usr/local/lib/python3.6/dist-packages (from networkx->hyperopt==0.1.1->flair) (4.3.0)\n",
            "Requirement already satisfied: boto>=2.32 in /usr/local/lib/python3.6/dist-packages (from smart-open>=1.2.1->gensim==3.4.0->flair) (2.49.0)\n",
            "Requirement already satisfied: bz2file in /usr/local/lib/python3.6/dist-packages (from smart-open>=1.2.1->gensim==3.4.0->flair) (0.98)\n",
            "Requirement already satisfied: certifi>=2017.4.17 in /usr/local/lib/python3.6/dist-packages (from requests->pytorch-pretrained-bert==0.3.0->flair) (2018.11.29)\n",
            "Requirement already satisfied: urllib3<1.23,>=1.21.1 in /usr/local/lib/python3.6/dist-packages (from requests->pytorch-pretrained-bert==0.3.0->flair) (1.22)\n",
            "Requirement already satisfied: idna<2.7,>=2.5 in /usr/local/lib/python3.6/dist-packages (from requests->pytorch-pretrained-bert==0.3.0->flair) (2.6)\n",
            "Requirement already satisfied: chardet<3.1.0,>=3.0.2 in /usr/local/lib/python3.6/dist-packages (from requests->pytorch-pretrained-bert==0.3.0->flair) (3.0.4)\n",
            "Requirement already satisfied: s3transfer<0.2.0,>=0.1.10 in /usr/local/lib/python3.6/dist-packages (from boto3->pytorch-pretrained-bert==0.3.0->flair) (0.1.13)\n",
            "Requirement already satisfied: jmespath<1.0.0,>=0.7.1 in /usr/local/lib/python3.6/dist-packages (from boto3->pytorch-pretrained-bert==0.3.0->flair) (0.9.3)\n",
            "Requirement already satisfied: botocore<1.13.0,>=1.12.75 in /usr/local/lib/python3.6/dist-packages (from boto3->pytorch-pretrained-bert==0.3.0->flair) (1.12.75)\n",
            "Requirement already satisfied: setuptools in /usr/local/lib/python3.6/dist-packages (from kiwisolver>=1.0.1->matplotlib==3.0.0->flair) (40.6.3)\n",
            "Requirement already satisfied: docutils>=0.10 in /usr/local/lib/python3.6/dist-packages (from botocore<1.13.0,>=1.12.75->boto3->pytorch-pretrained-bert==0.3.0->flair) (0.14)\n"
          ],
          "name": "stdout"
        }
      ]
    },
    {
      "cell_type": "code",
      "metadata": {
        "id": "VjMG0JzCkFNS"
      },
      "source": [
        "from flair.models import TextClassifier\n",
        "from flair.data import Sentence\n",
        "from flair.models import SequenceTagger"
      ],
      "execution_count": null,
      "outputs": []
    },
    {
      "cell_type": "markdown",
      "metadata": {
        "id": "6zdZJvbyj4cT"
      },
      "source": [
        ""
      ]
    },
    {
      "cell_type": "code",
      "metadata": {
        "id": "txcKg77wl7PU"
      },
      "source": [
        "tagger = SequenceTagger.load('ner')"
      ],
      "execution_count": null,
      "outputs": []
    },
    {
      "cell_type": "code",
      "metadata": {
        "id": "GOzMwn5mkBN6"
      },
      "source": [
        "sample_texts = [\n",
        "    \"I studied in University of Washington.\",\n",
        "    \"Founded in 1861, Washington was first established in downtown Seattle approximately a decade after the city's founding to aid its economic development.\",\n",
        "]"
      ],
      "execution_count": null,
      "outputs": []
    },
    {
      "cell_type": "code",
      "metadata": {
        "id": "0jGDZLtLk2dT",
        "colab": {
          "base_uri": "https://localhost:8080/",
          "height": 204
        },
        "outputId": "7d51f723-6599-4ea7-86ce-2f501f0c0f01"
      },
      "source": [
        "for text in sample_texts:\n",
        "  print('-' * 50)\n",
        "  print('Original Text')\n",
        "  print(text)\n",
        "  \n",
        "  print('NER Result')\n",
        "  sentence = Sentence(text)\n",
        "  tagger.predict(sentence)\n",
        "  for entity in sentence.get_spans('ner'):\n",
        "    print(entity)"
      ],
      "execution_count": null,
      "outputs": [
        {
          "output_type": "stream",
          "text": [
            "--------------------------------------------------\n",
            "Original Text\n",
            "I studied in University of Washington.\n",
            "NER Result\n",
            "ORG-span [4,5,6]: \"University of Washington.\"\n",
            "--------------------------------------------------\n",
            "Original Text\n",
            "Founded in 1861, Washington was first established in downtown Seattle approximately a decade after the city's founding to aid its economic development.\n",
            "NER Result\n",
            "LOC-span [4]: \"Washington\"\n",
            "LOC-span [10]: \"Seattle\"\n"
          ],
          "name": "stdout"
        }
      ]
    }
  ]
}