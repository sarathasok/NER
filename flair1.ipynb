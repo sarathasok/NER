{
 "cells": [
  {
   "cell_type": "code",
   "execution_count": 3,
   "metadata": {},
   "outputs": [
    {
     "name": "stdout",
     "output_type": "stream",
     "text": [
      "Requirement already satisfied: flair in c:\\users\\sarat\\anaconda3\\lib\\site-packages (0.9)\n",
      "Requirement already satisfied: hyperopt>=0.1.1 in c:\\users\\sarat\\anaconda3\\lib\\site-packages (from flair) (0.2.5)\n",
      "Requirement already satisfied: tqdm>=4.26.0 in c:\\users\\sarat\\anaconda3\\lib\\site-packages (from flair) (4.50.2)\n",
      "Requirement already satisfied: gdown==3.12.2 in c:\\users\\sarat\\anaconda3\\lib\\site-packages (from flair) (3.12.2)\n",
      "Requirement already satisfied: konoha<5.0.0,>=4.0.0 in c:\\users\\sarat\\anaconda3\\lib\\site-packages (from flair) (4.6.5)\n",
      "Requirement already satisfied: regex in c:\\users\\sarat\\anaconda3\\lib\\site-packages (from flair) (2020.10.15)\n",
      "Requirement already satisfied: mpld3==0.3 in c:\\users\\sarat\\anaconda3\\lib\\site-packages (from flair) (0.3)\n",
      "Requirement already satisfied: torch!=1.8,>=1.5.0 in c:\\users\\sarat\\anaconda3\\lib\\site-packages (from flair) (1.9.0)\n",
      "Requirement already satisfied: matplotlib>=2.2.3 in c:\\users\\sarat\\anaconda3\\lib\\site-packages (from flair) (3.3.2)\n",
      "Requirement already satisfied: huggingface-hub in c:\\users\\sarat\\anaconda3\\lib\\site-packages (from flair) (0.0.17)\n",
      "Requirement already satisfied: conllu>=4.0 in c:\\users\\sarat\\anaconda3\\lib\\site-packages (from flair) (4.4.1)\n",
      "Requirement already satisfied: bpemb>=0.3.2 in c:\\users\\sarat\\anaconda3\\lib\\site-packages (from flair) (0.3.3)\n",
      "Requirement already satisfied: ftfy in c:\\users\\sarat\\anaconda3\\lib\\site-packages (from flair) (6.0.3)\n",
      "Requirement already satisfied: janome in c:\\users\\sarat\\anaconda3\\lib\\site-packages (from flair) (0.4.1)\n",
      "Requirement already satisfied: lxml in c:\\users\\sarat\\anaconda3\\lib\\site-packages (from flair) (4.6.1)\n",
      "Requirement already satisfied: tabulate in c:\\users\\sarat\\anaconda3\\lib\\site-packages (from flair) (0.8.9)\n",
      "Requirement already satisfied: sqlitedict>=1.6.0 in c:\\users\\sarat\\anaconda3\\lib\\site-packages (from flair) (1.7.0)\n",
      "Requirement already satisfied: python-dateutil>=2.6.1 in c:\\users\\sarat\\anaconda3\\lib\\site-packages (from flair) (2.8.1)\n",
      "Requirement already satisfied: gensim<=3.8.3,>=3.4.0 in c:\\users\\sarat\\anaconda3\\lib\\site-packages (from flair) (3.8.3)\n",
      "Requirement already satisfied: scikit-learn>=0.21.3 in c:\\users\\sarat\\anaconda3\\lib\\site-packages (from flair) (0.23.2)\n",
      "Requirement already satisfied: deprecated>=1.2.4 in c:\\users\\sarat\\anaconda3\\lib\\site-packages (from flair) (1.2.13)\n",
      "Requirement already satisfied: more-itertools~=8.8.0 in c:\\users\\sarat\\anaconda3\\lib\\site-packages (from flair) (8.8.0)\n",
      "Requirement already satisfied: wikipedia-api in c:\\users\\sarat\\anaconda3\\lib\\site-packages (from flair) (0.5.4)\n",
      "Requirement already satisfied: segtok>=1.5.7 in c:\\users\\sarat\\anaconda3\\lib\\site-packages (from flair) (1.5.10)\n",
      "Requirement already satisfied: sentencepiece==0.1.95 in c:\\users\\sarat\\anaconda3\\lib\\site-packages (from flair) (0.1.95)\n",
      "Requirement already satisfied: langdetect in c:\\users\\sarat\\anaconda3\\lib\\site-packages (from flair) (1.0.9)\n",
      "Requirement already satisfied: transformers>=4.0.0 in c:\\users\\sarat\\anaconda3\\lib\\site-packages (from flair) (4.10.3)\n",
      "Requirement already satisfied: numpy in c:\\users\\sarat\\anaconda3\\lib\\site-packages (from hyperopt>=0.1.1->flair) (1.19.2)\n",
      "Requirement already satisfied: networkx>=2.2 in c:\\users\\sarat\\anaconda3\\lib\\site-packages (from hyperopt>=0.1.1->flair) (2.5)\n",
      "Requirement already satisfied: future in c:\\users\\sarat\\anaconda3\\lib\\site-packages (from hyperopt>=0.1.1->flair) (0.18.2)\n",
      "Requirement already satisfied: scipy in c:\\users\\sarat\\anaconda3\\lib\\site-packages (from hyperopt>=0.1.1->flair) (1.5.2)\n",
      "Requirement already satisfied: six in c:\\users\\sarat\\anaconda3\\lib\\site-packages (from hyperopt>=0.1.1->flair) (1.15.0)\n",
      "Requirement already satisfied: cloudpickle in c:\\users\\sarat\\anaconda3\\lib\\site-packages (from hyperopt>=0.1.1->flair) (1.6.0)\n",
      "Requirement already satisfied: requests[socks] in c:\\users\\sarat\\anaconda3\\lib\\site-packages (from gdown==3.12.2->flair) (2.24.0)\n",
      "Requirement already satisfied: filelock in c:\\users\\sarat\\anaconda3\\lib\\site-packages (from gdown==3.12.2->flair) (3.0.12)\n",
      "Requirement already satisfied: overrides<4.0.0,>=3.0.0 in c:\\users\\sarat\\anaconda3\\lib\\site-packages (from konoha<5.0.0,>=4.0.0->flair) (3.1.0)\n",
      "Requirement already satisfied: importlib-metadata<4.0.0,>=3.7.0 in c:\\users\\sarat\\anaconda3\\lib\\site-packages (from konoha<5.0.0,>=4.0.0->flair) (3.10.1)\n",
      "Requirement already satisfied: typing-extensions in c:\\users\\sarat\\anaconda3\\lib\\site-packages (from torch!=1.8,>=1.5.0->flair) (3.7.4.3)\n",
      "Requirement already satisfied: kiwisolver>=1.0.1 in c:\\users\\sarat\\anaconda3\\lib\\site-packages (from matplotlib>=2.2.3->flair) (1.3.0)\n",
      "Requirement already satisfied: pyparsing!=2.0.4,!=2.1.2,!=2.1.6,>=2.0.3 in c:\\users\\sarat\\anaconda3\\lib\\site-packages (from matplotlib>=2.2.3->flair) (2.4.7)\n",
      "Requirement already satisfied: cycler>=0.10 in c:\\users\\sarat\\anaconda3\\lib\\site-packages (from matplotlib>=2.2.3->flair) (0.10.0)\n",
      "Requirement already satisfied: pillow>=6.2.0 in c:\\users\\sarat\\anaconda3\\lib\\site-packages (from matplotlib>=2.2.3->flair) (8.0.1)\n",
      "Requirement already satisfied: certifi>=2020.06.20 in c:\\users\\sarat\\anaconda3\\lib\\site-packages (from matplotlib>=2.2.3->flair) (2020.6.20)\n",
      "Collecting packaging>=20.9\n",
      "  Using cached packaging-21.0-py3-none-any.whl (40 kB)\n",
      "Requirement already satisfied: wcwidth in c:\\users\\sarat\\anaconda3\\lib\\site-packages (from ftfy->flair) (0.2.5)\n",
      "Requirement already satisfied: Cython==0.29.14 in c:\\users\\sarat\\anaconda3\\lib\\site-packages (from gensim<=3.8.3,>=3.4.0->flair) (0.29.14)\n",
      "Requirement already satisfied: smart-open>=1.8.1 in c:\\users\\sarat\\anaconda3\\lib\\site-packages (from gensim<=3.8.3,>=3.4.0->flair) (5.1.0)\n",
      "Requirement already satisfied: joblib>=0.11 in c:\\users\\sarat\\anaconda3\\lib\\site-packages (from scikit-learn>=0.21.3->flair) (0.17.0)\n",
      "Requirement already satisfied: threadpoolctl>=2.0.0 in c:\\users\\sarat\\anaconda3\\lib\\site-packages (from scikit-learn>=0.21.3->flair) (2.1.0)\n",
      "Requirement already satisfied: wrapt<2,>=1.10 in c:\\users\\sarat\\anaconda3\\lib\\site-packages (from deprecated>=1.2.4->flair) (1.11.2)\n",
      "Requirement already satisfied: tokenizers<0.11,>=0.10.1 in c:\\users\\sarat\\anaconda3\\lib\\site-packages (from transformers>=4.0.0->flair) (0.10.3)\n",
      "Requirement already satisfied: sacremoses in c:\\users\\sarat\\anaconda3\\lib\\site-packages (from transformers>=4.0.0->flair) (0.0.46)\n",
      "Requirement already satisfied: pyyaml>=5.1 in c:\\users\\sarat\\anaconda3\\lib\\site-packages (from transformers>=4.0.0->flair) (5.3.1)\n",
      "Requirement already satisfied: decorator>=4.3.0 in c:\\users\\sarat\\anaconda3\\lib\\site-packages (from networkx>=2.2->hyperopt>=0.1.1->flair) (4.4.2)\n",
      "Requirement already satisfied: chardet<4,>=3.0.2 in c:\\users\\sarat\\anaconda3\\lib\\site-packages (from requests[socks]->gdown==3.12.2->flair) (3.0.4)\n",
      "Requirement already satisfied: idna<3,>=2.5 in c:\\users\\sarat\\anaconda3\\lib\\site-packages (from requests[socks]->gdown==3.12.2->flair) (2.10)\n",
      "Requirement already satisfied: urllib3!=1.25.0,!=1.25.1,<1.26,>=1.21.1 in c:\\users\\sarat\\anaconda3\\lib\\site-packages (from requests[socks]->gdown==3.12.2->flair) (1.25.11)\n",
      "Requirement already satisfied: PySocks!=1.5.7,>=1.5.6; extra == \"socks\" in c:\\users\\sarat\\anaconda3\\lib\\site-packages (from requests[socks]->gdown==3.12.2->flair) (1.7.1)\n",
      "Requirement already satisfied: zipp>=0.5 in c:\\users\\sarat\\anaconda3\\lib\\site-packages (from importlib-metadata<4.0.0,>=3.7.0->konoha<5.0.0,>=4.0.0->flair) (3.4.0)\n",
      "Requirement already satisfied: click in c:\\users\\sarat\\anaconda3\\lib\\site-packages (from sacremoses->transformers>=4.0.0->flair) (7.1.2)\n",
      "Installing collected packages: packaging\n",
      "  Attempting uninstall: packaging\n",
      "    Found existing installation: packaging 20.4\n",
      "    Uninstalling packaging-20.4:\n",
      "      Successfully uninstalled packaging-20.4\n",
      "Successfully installed packaging-21.0\n"
     ]
    }
   ],
   "source": [
    "!pip install flair"
   ]
  },
  {
   "cell_type": "code",
   "execution_count": 4,
   "metadata": {},
   "outputs": [
    {
     "name": "stdout",
     "output_type": "stream",
     "text": [
      "2021-09-27 22:30:03,785 --------------------------------------------------------------------------------\n",
      "2021-09-27 22:30:03,786 The model key 'ner' now maps to 'https://huggingface.co/flair/ner-english' on the HuggingFace ModelHub\n",
      "2021-09-27 22:30:03,788  - The most current version of the model is automatically downloaded from there.\n",
      "2021-09-27 22:30:03,789  - (you can alternatively manually download the original model at https://nlp.informatik.hu-berlin.de/resources/models/ner/en-ner-conll03-v0.4.pt)\n",
      "2021-09-27 22:30:03,791 --------------------------------------------------------------------------------\n",
      "2021-09-27 22:30:04,178 loading file C:\\Users\\sarat\\.flair\\models\\ner-english\\4f4cdab26f24cb98b732b389e6cebc646c36f54cfd6e0b7d3b90b25656e4262f.8baa8ae8795f4df80b28e7f7b61d788ecbb057d1dc85aacb316f1bd02837a4a4\n"
     ]
    }
   ],
   "source": [
    "from flair.data import Sentence\n",
    "from flair.models import SequenceTagger\n",
    "\n",
    "#sentence\n",
    "sentence = Sentence('I love Kochi.')\n",
    "\n",
    "# load the NER tagger\n",
    "tagger = SequenceTagger.load('ner')\n",
    "\n",
    "tagger.predict(sentence)"
   ]
  },
  {
   "cell_type": "code",
   "execution_count": 5,
   "metadata": {},
   "outputs": [
    {
     "name": "stdout",
     "output_type": "stream",
     "text": [
      "Sentence: \"I love Kochi .\"   [− Tokens: 4  − Token-Labels: \"I love Kochi <S-LOC> .\"]\n",
      "Entities\n",
      "Span [3]: \"Kochi\"   [− Labels: LOC (0.9905)]\n"
     ]
    }
   ],
   "source": [
    "print(sentence)\n",
    "print('Entities')\n",
    "\n",
    "# iterate over entities and print\n",
    "for entity in sentence.get_spans('ner'):\n",
    "    print(entity)"
   ]
  }
 ],
 "metadata": {
  "kernelspec": {
   "display_name": "Python 3",
   "language": "python",
   "name": "python3"
  },
  "language_info": {
   "codemirror_mode": {
    "name": "ipython",
    "version": 3
   },
   "file_extension": ".py",
   "mimetype": "text/x-python",
   "name": "python",
   "nbconvert_exporter": "python",
   "pygments_lexer": "ipython3",
   "version": "3.8.5"
  }
 },
 "nbformat": 4,
 "nbformat_minor": 4
}
